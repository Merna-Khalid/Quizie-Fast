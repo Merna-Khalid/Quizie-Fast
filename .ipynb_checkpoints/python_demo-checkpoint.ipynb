{
 "cells": [
  {
   "cell_type": "markdown",
   "id": "f4bee0a3",
   "metadata": {},
   "source": [
    "# Quizie Fast"
   ]
  },
  {
   "cell_type": "code",
   "execution_count": 1,
   "id": "6eca4761",
   "metadata": {},
   "outputs": [],
   "source": [
    "from openai import OpenAI\n",
    "import requests\n",
    "import re"
   ]
  },
  {
   "cell_type": "markdown",
   "id": "1728a949",
   "metadata": {},
   "source": [
    "## What do you wish to be quizzed about?"
   ]
  },
  {
   "cell_type": "code",
   "execution_count": 2,
   "id": "ca2de00d",
   "metadata": {
    "scrolled": true
   },
   "outputs": [
    {
     "name": "stdout",
     "output_type": "stream",
     "text": [
      "about Food\n"
     ]
    }
   ],
   "source": [
    "prompt = input()"
   ]
  },
  {
   "cell_type": "markdown",
   "id": "bf550318",
   "metadata": {},
   "source": [
    "## Receiving Quiz"
   ]
  },
  {
   "cell_type": "code",
   "execution_count": 3,
   "id": "8ffaf1c1",
   "metadata": {},
   "outputs": [],
   "source": [
    "combinedMessage = \"\"\"Create quiz of 10 questions and 4 choices each in the format of \n",
    "1. question1 ?\n",
    "a) answer1\n",
    "b) answer2\n",
    "c) answer3\n",
    "d) answer4\n",
    "\n",
    "2. question2 ?\n",
    "a) answer1\n",
    "b) answer2\n",
    "c) answer3\n",
    "d) answer4\n",
    "\n",
    "and provide the answers at the end in the following format ANSWERS: \n",
    "[question number]. [full answer] \n",
    "    ...\n",
    "[last question number]. [full answer] \n",
    "\"\"\" + prompt;\n"
   ]
  },
  {
   "cell_type": "code",
   "execution_count": 4,
   "id": "e428016b",
   "metadata": {},
   "outputs": [],
   "source": [
    "client = OpenAI(\n",
    "    api_key=\"YOUR_OPENAI_API_KEY\",\n",
    ")\n",
    "\n",
    "chat_completion = client.chat.completions.create(\n",
    "    messages=[\n",
    "        {'role': 'system', 'content': 'You are a helpful assistant.'},\n",
    "        {'role': 'user', 'content': combinedMessage}\n",
    "    ],\n",
    "    model=\"gpt-3.5-turbo-1106\",\n",
    ")"
   ]
  },
  {
   "cell_type": "code",
   "execution_count": 5,
   "id": "178b3537",
   "metadata": {},
   "outputs": [],
   "source": [
    "content = chat_completion.choices[0].message.content"
   ]
  },
  {
   "cell_type": "markdown",
   "id": "5b1fe5ea",
   "metadata": {},
   "source": [
    "## Formatting Quiz"
   ]
  },
  {
   "cell_type": "code",
   "execution_count": 7,
   "id": "cfb1b4fc",
   "metadata": {},
   "outputs": [],
   "source": [
    "# Split the content into questions and answers\n",
    "questions_answers = re.split(r'ANSWERS:', content)\n",
    "questions = questions_answers[0].split('\\n\\n')[1:]\n",
    "\n",
    "quiz_data = {f'Question {i + 1}': [] for i in range(len(questions))}\n",
    "for i, question in enumerate(questions):\n",
    "    lines = question.strip().split('\\n')\n",
    "    quiz_data[f'Question {i + 1}'].append(lines[0])\n",
    "    quiz_data[f'Question {i + 1}'].extend(lines[1:])\n",
    "\n",
    "# Add answers to quizData\n",
    "answers = re.findall(r'\\d+\\..+?$', questions_answers[1], re.MULTILINE)\n",
    "quiz_data['ANSWERS'] = answers\n"
   ]
  },
  {
   "cell_type": "code",
   "execution_count": 8,
   "id": "608d9f0b",
   "metadata": {
    "scrolled": true
   },
   "outputs": [],
   "source": [
    "def grading(correct_answers, user_answers):\n",
    "    grade = 0\n",
    "    for correct_answer, user_answer in zip(correct_answers, user_answers):\n",
    "        if user_answer == correct_answer[3]:\n",
    "            grade += 1\n",
    "            \n",
    "    return grade"
   ]
  },
  {
   "cell_type": "markdown",
   "id": "e0e84ace",
   "metadata": {},
   "source": [
    "# Please, Answer the quiz questions!"
   ]
  },
  {
   "cell_type": "code",
   "execution_count": 10,
   "id": "bceff574",
   "metadata": {
    "scrolled": true
   },
   "outputs": [
    {
     "name": "stdout",
     "output_type": "stream",
     "text": [
      "Please enter one letter as answer (a, b, c, d)\n",
      "1. What is the main ingredient in guacamole?\n",
      "\ta) Avocado\n",
      "\tb) Tomato\n",
      "\tc) Onion\n",
      "\td) Carrot\n",
      "a\n",
      "2. What is the primary ingredient in hummus?\n",
      "\ta) Chickpeas\n",
      "\tb) Lentils\n",
      "\tc) Black beans\n",
      "\td) Peas\n",
      "a\n",
      "3. What is the main ingredient in Tiramisu?\n",
      "\ta) Coffee\n",
      "\tb) Chocolate\n",
      "\tc) Mascarpone cheese\n",
      "\td) Ladyfingers\n",
      "a\n",
      "4. Which type of pasta is shaped like small rice grains?\n",
      "\ta) Orzo\n",
      "\tb) Penne\n",
      "\tc) Rigatoni\n",
      "\td) Farfalle\n",
      "a\n",
      "5. What is the traditional base for pizza sauce?\n",
      "\ta) Tomato\n",
      "\tb) Pesto\n",
      "\tc) Alfredo\n",
      "\td) BBQ sauce\n",
      "a\n",
      "6. What is the main ingredient in paella?\n",
      "\ta) Chicken\n",
      "\tb) Shrimp\n",
      "\tc) Saffron-infused rice\n",
      "\td) Chorizo\n",
      "a\n",
      "7. What herb is commonly used in pesto sauce?\n",
      "\ta) Basil\n",
      "\tb) Mint\n",
      "\tc) Coriander\n",
      "\td) Parsley\n",
      "d\n",
      "8. Which ingredient provides the primary flavor in a soufflé?\n",
      "\ta) Cheese\n",
      "\tb) Chocolate\n",
      "\tc) Lemon\n",
      "\td) Cinnamon\n",
      "a\n",
      "9. Which dessert is made from whipped egg whites and sugar?\n",
      "\ta) Mousse\n",
      "\tb) Soufflé\n",
      "\tc) Pavlova\n",
      "\td) Flan\n",
      "c\n",
      "10. Which fruit is used to make a traditional French tarte Tatin?\n",
      "\ta) Apple\n",
      "\tb) Peach\n",
      "\tc) Pear\n",
      "\td) Plum\n",
      "b\n"
     ]
    }
   ],
   "source": [
    "user_answers = []\n",
    "print(\"Please enter one letter as answer (a, b, c, d)\")\n",
    "\n",
    "for i in range(1, 11):\n",
    "    print(quiz_data['Question ' + str(i)][0])\n",
    "    for j in range(1, 5):\n",
    "        print('\\t' + quiz_data['Question ' + str(i)][j])\n",
    "    while True:\n",
    "        answer = input()\n",
    "        if answer in ['a', 'b', 'c', 'd']:\n",
    "            user_answers.append(answer)\n",
    "            break\n",
    "        else:\n",
    "            print(\"Wrong answer format\")"
   ]
  },
  {
   "cell_type": "markdown",
   "id": "0944d575",
   "metadata": {},
   "source": [
    "## Grading"
   ]
  },
  {
   "cell_type": "code",
   "execution_count": 13,
   "id": "cd21e837",
   "metadata": {},
   "outputs": [
    {
     "name": "stdout",
     "output_type": "stream",
     "text": [
      "Your grade is :\n",
      "60  / 100\n"
     ]
    }
   ],
   "source": [
    "print(\"Your grade is :\")\n",
    "print(grading(quiz_data['ANSWERS'], user_answers) * 10, \" / 100\")"
   ]
  },
  {
   "cell_type": "code",
   "execution_count": null,
   "id": "01b3a165",
   "metadata": {},
   "outputs": [],
   "source": []
  }
 ],
 "metadata": {
  "kernelspec": {
   "display_name": "Python 3 (ipykernel)",
   "language": "python",
   "name": "python3"
  },
  "language_info": {
   "codemirror_mode": {
    "name": "ipython",
    "version": 3
   },
   "file_extension": ".py",
   "mimetype": "text/x-python",
   "name": "python",
   "nbconvert_exporter": "python",
   "pygments_lexer": "ipython3",
   "version": "3.11.3"
  }
 },
 "nbformat": 4,
 "nbformat_minor": 5
}
